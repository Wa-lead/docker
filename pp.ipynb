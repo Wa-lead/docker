{
 "cells": [
  {
   "cell_type": "code",
   "execution_count": 7,
   "metadata": {},
   "outputs": [
    {
     "ename": "ModuleNotFoundError",
     "evalue": "No module named 'aliyunsdkcore.request.v20160314'; 'aliyunsdkcore.request' is not a package",
     "output_type": "error",
     "traceback": [
      "\u001b[0;31m---------------------------------------------------------------------------\u001b[0m",
      "\u001b[0;31mModuleNotFoundError\u001b[0m                       Traceback (most recent call last)",
      "Cell \u001b[0;32mIn[7], line 4\u001b[0m\n\u001b[1;32m      2\u001b[0m \u001b[39mfrom\u001b[39;00m \u001b[39maliyunsdkcore\u001b[39;00m\u001b[39m.\u001b[39;00m\u001b[39macs_exception\u001b[39;00m\u001b[39m.\u001b[39;00m\u001b[39mexceptions\u001b[39;00m \u001b[39mimport\u001b[39;00m ClientException\n\u001b[1;32m      3\u001b[0m \u001b[39mfrom\u001b[39;00m \u001b[39maliyunsdkcore\u001b[39;00m\u001b[39m.\u001b[39;00m\u001b[39macs_exception\u001b[39;00m\u001b[39m.\u001b[39;00m\u001b[39mexceptions\u001b[39;00m \u001b[39mimport\u001b[39;00m ServerException\n\u001b[0;32m----> 4\u001b[0m \u001b[39mfrom\u001b[39;00m \u001b[39maliyunsdkcore\u001b[39;00m\u001b[39m.\u001b[39;00m\u001b[39mrequest\u001b[39;00m\u001b[39m.\u001b[39;00m\u001b[39mv20160314\u001b[39;00m \u001b[39mimport\u001b[39;00m GetAuthorizationTokenRequest\n\u001b[1;32m      6\u001b[0m client \u001b[39m=\u001b[39m AcsClient(\u001b[39m'\u001b[39m\u001b[39mLTAI5tP59KBidUmKURTZjXy7\u001b[39m\u001b[39m'\u001b[39m,\u001b[39m'\u001b[39m\u001b[39ml5gaKWTcCtBz7A0GKJDaxaqlBWChav\u001b[39m\u001b[39m'\u001b[39m)\n\u001b[1;32m      8\u001b[0m request \u001b[39m=\u001b[39m GetAuthorizationTokenRequest()\n",
      "\u001b[0;31mModuleNotFoundError\u001b[0m: No module named 'aliyunsdkcore.request.v20160314'; 'aliyunsdkcore.request' is not a package"
     ]
    }
   ],
   "source": [
    "from aliyunsdkcore.client import AcsClient\n",
    "from aliyunsdkcore.acs_exception.exceptions import ClientException\n",
    "from aliyunsdkcore.acs_exception.exceptions import ServerException\n",
    "from aliyunsdkecr.request.v20160314 import GetAuthorizationTokenRequest\n",
    "\n",
    "client = AcsClient('LTAI5tP59KBidUmKURTZjXy7','l5gaKWTcCtBz7A0GKJDaxaqlBWChav')\n",
    "\n",
    "request = GetAuthorizationTokenRequest()\n",
    "request.set_accept_format('json')\n",
    "\n",
    "response = client.do_action_with_exception(request)\n",
    "\n",
    "print(str(response, encoding='utf-8'))\n"
   ]
  },
  {
   "cell_type": "code",
   "execution_count": 5,
   "metadata": {},
   "outputs": [
    {
     "data": {
      "text/plain": [
       "'accessKeyId'"
      ]
     },
     "execution_count": 5,
     "metadata": {},
     "output_type": "execute_result"
    }
   ],
   "source": [
    "access_key_id"
   ]
  },
  {
   "cell_type": "code",
   "execution_count": 6,
   "metadata": {},
   "outputs": [
    {
     "data": {
      "text/plain": [
       "<alibabacloud_credentials.client.Client at 0x108257af0>"
      ]
     },
     "execution_count": 6,
     "metadata": {},
     "output_type": "execute_result"
    }
   ],
   "source": [
    "# terminal ip address command (macos) with prefix\n",
    "#Answer: ifconfig | grep \"inet \" | grep -how"
   ]
  }
 ],
 "metadata": {
  "kernelspec": {
   "display_name": "venv",
   "language": "python",
   "name": "python3"
  },
  "language_info": {
   "codemirror_mode": {
    "name": "ipython",
    "version": 3
   },
   "file_extension": ".py",
   "mimetype": "text/x-python",
   "name": "python",
   "nbconvert_exporter": "python",
   "pygments_lexer": "ipython3",
   "version": "3.9.12 (main, Apr  5 2022, 01:52:34) \n[Clang 12.0.0 ]"
  },
  "orig_nbformat": 4,
  "vscode": {
   "interpreter": {
    "hash": "9620300fd4c954be69afcb8acacc2ad0655562f013b7128ebda945ce62a97dfc"
   }
  }
 },
 "nbformat": 4,
 "nbformat_minor": 2
}
